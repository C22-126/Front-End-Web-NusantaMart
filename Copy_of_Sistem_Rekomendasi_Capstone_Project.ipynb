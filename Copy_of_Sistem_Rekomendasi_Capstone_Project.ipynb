{
 "cells": [
  {
   "cell_type": "markdown",
   "metadata": {
    "id": "n_u3n4G2AL3z",
    "pycharm": {
     "name": "#%% md\n"
    }
   },
   "source": [
    "# NUSANTAMART\n",
    " *(Nusantara market) Website UMKM dengan Sistem Rekomendasi*"
   ]
  },
  {
   "cell_type": "markdown",
   "metadata": {
    "id": "wg9iUiTsBy2r",
    "pycharm": {
     "name": "#%% md\n"
    }
   },
   "source": [
    "## Data Understanding"
   ]
  },
  {
   "cell_type": "code",
   "execution_count": 1,
   "metadata": {
    "id": "Iq1MudMzBwpZ",
    "pycharm": {
     "name": "#%%\n"
    }
   },
   "outputs": [],
   "source": [
    "# Import library\n",
    "import pandas as pd\n",
    "import numpy as np \n",
    "import tensorflow as tf\n",
    "from tensorflow import keras\n",
    "from tensorflow.keras import layers\n",
    "from pathlib import Path\n",
    "import pickle"
   ]
  },
  {
   "cell_type": "markdown",
   "metadata": {
    "id": "xJ8irGRQ5vsO",
    "pycharm": {
     "name": "#%% md\n"
    }
   },
   "source": [
    "Data Loading"
   ]
  },
  {
   "cell_type": "code",
   "execution_count": 2,
   "metadata": {
    "colab": {
     "base_uri": "https://localhost:8080/",
     "height": 424
    },
    "id": "DSzYSL1sGIoO",
    "outputId": "93743e83-c6e7-4176-e8fc-4ec84b75ac8f",
    "pycharm": {
     "name": "#%%\n"
    }
   },
   "outputs": [
    {
     "data": {
      "text/html": [
       "<div>\n",
       "<style scoped>\n",
       "    .dataframe tbody tr th:only-of-type {\n",
       "        vertical-align: middle;\n",
       "    }\n",
       "\n",
       "    .dataframe tbody tr th {\n",
       "        vertical-align: top;\n",
       "    }\n",
       "\n",
       "    .dataframe thead th {\n",
       "        text-align: right;\n",
       "    }\n",
       "</style>\n",
       "<table border=\"1\" class=\"dataframe\">\n",
       "  <thead>\n",
       "    <tr style=\"text-align: right;\">\n",
       "      <th></th>\n",
       "      <th>foodId</th>\n",
       "      <th>Nama</th>\n",
       "      <th>Tipe</th>\n",
       "    </tr>\n",
       "  </thead>\n",
       "  <tbody>\n",
       "    <tr>\n",
       "      <th>0</th>\n",
       "      <td>1</td>\n",
       "      <td>Sosis Bakar</td>\n",
       "      <td>ayam-daging</td>\n",
       "    </tr>\n",
       "    <tr>\n",
       "      <th>1</th>\n",
       "      <td>2</td>\n",
       "      <td>Ngohiong Ayam Udang</td>\n",
       "      <td>ayam-daging</td>\n",
       "    </tr>\n",
       "    <tr>\n",
       "      <th>2</th>\n",
       "      <td>3</td>\n",
       "      <td>Rawon Ayam</td>\n",
       "      <td>ayam-daging</td>\n",
       "    </tr>\n",
       "    <tr>\n",
       "      <th>3</th>\n",
       "      <td>4</td>\n",
       "      <td>Usus Goreng Crispy</td>\n",
       "      <td>ayam-daging</td>\n",
       "    </tr>\n",
       "    <tr>\n",
       "      <th>4</th>\n",
       "      <td>5</td>\n",
       "      <td>Ceker Rica Rica</td>\n",
       "      <td>ayam-daging</td>\n",
       "    </tr>\n",
       "    <tr>\n",
       "      <th>...</th>\n",
       "      <td>...</td>\n",
       "      <td>...</td>\n",
       "      <td>...</td>\n",
       "    </tr>\n",
       "    <tr>\n",
       "      <th>1268</th>\n",
       "      <td>1269</td>\n",
       "      <td>Es Cincau</td>\n",
       "      <td>buah-minuman</td>\n",
       "    </tr>\n",
       "    <tr>\n",
       "      <th>1269</th>\n",
       "      <td>1270</td>\n",
       "      <td>Asinan Rambutan</td>\n",
       "      <td>buah-minuman</td>\n",
       "    </tr>\n",
       "    <tr>\n",
       "      <th>1270</th>\n",
       "      <td>1271</td>\n",
       "      <td>Asinan Buah</td>\n",
       "      <td>buah-minuman</td>\n",
       "    </tr>\n",
       "    <tr>\n",
       "      <th>1271</th>\n",
       "      <td>1272</td>\n",
       "      <td>Sop Buah</td>\n",
       "      <td>buah-minuman</td>\n",
       "    </tr>\n",
       "    <tr>\n",
       "      <th>1272</th>\n",
       "      <td>1273</td>\n",
       "      <td>Bandrek</td>\n",
       "      <td>buah-minuman</td>\n",
       "    </tr>\n",
       "  </tbody>\n",
       "</table>\n",
       "<p>1273 rows × 3 columns</p>\n",
       "</div>"
      ],
      "text/plain": [
       "      foodId                 Nama          Tipe\n",
       "0          1          Sosis Bakar   ayam-daging\n",
       "1          2  Ngohiong Ayam Udang   ayam-daging\n",
       "2          3           Rawon Ayam   ayam-daging\n",
       "3          4   Usus Goreng Crispy   ayam-daging\n",
       "4          5      Ceker Rica Rica   ayam-daging\n",
       "...      ...                  ...           ...\n",
       "1268    1269            Es Cincau  buah-minuman\n",
       "1269    1270      Asinan Rambutan  buah-minuman\n",
       "1270    1271          Asinan Buah  buah-minuman\n",
       "1271    1272             Sop Buah  buah-minuman\n",
       "1272    1273              Bandrek  buah-minuman\n",
       "\n",
       "[1273 rows x 3 columns]"
      ]
     },
     "execution_count": 2,
     "metadata": {},
     "output_type": "execute_result"
    }
   ],
   "source": [
    "food = pd.read_csv('indonesian_food.csv')\n",
    "food"
   ]
  },
  {
   "cell_type": "markdown",
   "metadata": {
    "id": "hNGw1Jh06eU6",
    "pycharm": {
     "name": "#%% md\n"
    }
   },
   "source": [
    "##**Data Preprocessing**"
   ]
  },
  {
   "cell_type": "markdown",
   "metadata": {
    "id": "ewKXvxus6j8k",
    "pycharm": {
     "name": "#%% md\n"
    }
   },
   "source": [
    "melihat informasi pada data"
   ]
  },
  {
   "cell_type": "code",
   "execution_count": 3,
   "metadata": {
    "colab": {
     "base_uri": "https://localhost:8080/"
    },
    "id": "OPrfD8iXGbBW",
    "outputId": "42f73b71-f4ea-404c-eae6-323b21898d0c",
    "pycharm": {
     "name": "#%%\n"
    }
   },
   "outputs": [
    {
     "name": "stdout",
     "output_type": "stream",
     "text": [
      "<class 'pandas.core.frame.DataFrame'>\n",
      "RangeIndex: 1273 entries, 0 to 1272\n",
      "Data columns (total 3 columns):\n",
      " #   Column  Non-Null Count  Dtype \n",
      "---  ------  --------------  ----- \n",
      " 0   foodId  1273 non-null   int64 \n",
      " 1   Nama    1273 non-null   object\n",
      " 2   Tipe    1273 non-null   object\n",
      "dtypes: int64(1), object(2)\n",
      "memory usage: 30.0+ KB\n"
     ]
    }
   ],
   "source": [
    "food.info()"
   ]
  },
  {
   "cell_type": "code",
   "execution_count": 4,
   "metadata": {
    "colab": {
     "base_uri": "https://localhost:8080/",
     "height": 206
    },
    "id": "5KycHdYMGhyC",
    "outputId": "0a67924b-3943-4aaa-c4a0-bdb47e89a0e9",
    "pycharm": {
     "name": "#%%\n"
    }
   },
   "outputs": [
    {
     "data": {
      "text/html": [
       "<div>\n",
       "<style scoped>\n",
       "    .dataframe tbody tr th:only-of-type {\n",
       "        vertical-align: middle;\n",
       "    }\n",
       "\n",
       "    .dataframe tbody tr th {\n",
       "        vertical-align: top;\n",
       "    }\n",
       "\n",
       "    .dataframe thead th {\n",
       "        text-align: right;\n",
       "    }\n",
       "</style>\n",
       "<table border=\"1\" class=\"dataframe\">\n",
       "  <thead>\n",
       "    <tr style=\"text-align: right;\">\n",
       "      <th></th>\n",
       "      <th>foodId</th>\n",
       "      <th>Nama</th>\n",
       "      <th>Tipe</th>\n",
       "    </tr>\n",
       "  </thead>\n",
       "  <tbody>\n",
       "    <tr>\n",
       "      <th>0</th>\n",
       "      <td>1</td>\n",
       "      <td>Sosis Bakar</td>\n",
       "      <td>ayam-daging</td>\n",
       "    </tr>\n",
       "    <tr>\n",
       "      <th>1</th>\n",
       "      <td>2</td>\n",
       "      <td>Ngohiong Ayam Udang</td>\n",
       "      <td>ayam-daging</td>\n",
       "    </tr>\n",
       "    <tr>\n",
       "      <th>2</th>\n",
       "      <td>3</td>\n",
       "      <td>Rawon Ayam</td>\n",
       "      <td>ayam-daging</td>\n",
       "    </tr>\n",
       "    <tr>\n",
       "      <th>3</th>\n",
       "      <td>4</td>\n",
       "      <td>Usus Goreng Crispy</td>\n",
       "      <td>ayam-daging</td>\n",
       "    </tr>\n",
       "    <tr>\n",
       "      <th>4</th>\n",
       "      <td>5</td>\n",
       "      <td>Ceker Rica Rica</td>\n",
       "      <td>ayam-daging</td>\n",
       "    </tr>\n",
       "  </tbody>\n",
       "</table>\n",
       "</div>"
      ],
      "text/plain": [
       "   foodId                 Nama         Tipe\n",
       "0       1          Sosis Bakar  ayam-daging\n",
       "1       2  Ngohiong Ayam Udang  ayam-daging\n",
       "2       3           Rawon Ayam  ayam-daging\n",
       "3       4   Usus Goreng Crispy  ayam-daging\n",
       "4       5      Ceker Rica Rica  ayam-daging"
      ]
     },
     "execution_count": 4,
     "metadata": {},
     "output_type": "execute_result"
    }
   ],
   "source": [
    "food.head()"
   ]
  },
  {
   "cell_type": "code",
   "execution_count": 5,
   "metadata": {
    "colab": {
     "base_uri": "https://localhost:8080/",
     "height": 300
    },
    "id": "6vVm8HagGqox",
    "outputId": "68ed3407-d9e5-4f73-e2a8-6f33249aaf16",
    "pycharm": {
     "name": "#%%\n"
    }
   },
   "outputs": [
    {
     "data": {
      "text/html": [
       "<div>\n",
       "<style scoped>\n",
       "    .dataframe tbody tr th:only-of-type {\n",
       "        vertical-align: middle;\n",
       "    }\n",
       "\n",
       "    .dataframe tbody tr th {\n",
       "        vertical-align: top;\n",
       "    }\n",
       "\n",
       "    .dataframe thead th {\n",
       "        text-align: right;\n",
       "    }\n",
       "</style>\n",
       "<table border=\"1\" class=\"dataframe\">\n",
       "  <thead>\n",
       "    <tr style=\"text-align: right;\">\n",
       "      <th></th>\n",
       "      <th>foodId</th>\n",
       "    </tr>\n",
       "  </thead>\n",
       "  <tbody>\n",
       "    <tr>\n",
       "      <th>count</th>\n",
       "      <td>1273.000000</td>\n",
       "    </tr>\n",
       "    <tr>\n",
       "      <th>mean</th>\n",
       "      <td>637.000000</td>\n",
       "    </tr>\n",
       "    <tr>\n",
       "      <th>std</th>\n",
       "      <td>367.627756</td>\n",
       "    </tr>\n",
       "    <tr>\n",
       "      <th>min</th>\n",
       "      <td>1.000000</td>\n",
       "    </tr>\n",
       "    <tr>\n",
       "      <th>25%</th>\n",
       "      <td>319.000000</td>\n",
       "    </tr>\n",
       "    <tr>\n",
       "      <th>50%</th>\n",
       "      <td>637.000000</td>\n",
       "    </tr>\n",
       "    <tr>\n",
       "      <th>75%</th>\n",
       "      <td>955.000000</td>\n",
       "    </tr>\n",
       "    <tr>\n",
       "      <th>max</th>\n",
       "      <td>1273.000000</td>\n",
       "    </tr>\n",
       "  </tbody>\n",
       "</table>\n",
       "</div>"
      ],
      "text/plain": [
       "            foodId\n",
       "count  1273.000000\n",
       "mean    637.000000\n",
       "std     367.627756\n",
       "min       1.000000\n",
       "25%     319.000000\n",
       "50%     637.000000\n",
       "75%     955.000000\n",
       "max    1273.000000"
      ]
     },
     "execution_count": 5,
     "metadata": {},
     "output_type": "execute_result"
    }
   ],
   "source": [
    "food.describe()"
   ]
  },
  {
   "cell_type": "markdown",
   "metadata": {
    "id": "w0YhYgA06YP8",
    "pycharm": {
     "name": "#%% md\n"
    }
   },
   "source": [
    "##**Data Preparation**"
   ]
  },
  {
   "cell_type": "markdown",
   "metadata": {
    "id": "EXWb3xhy6ugc",
    "pycharm": {
     "name": "#%% md\n"
    }
   },
   "source": [
    "Memeriksa Missing Value Pada dataset"
   ]
  },
  {
   "cell_type": "code",
   "execution_count": 6,
   "metadata": {
    "colab": {
     "base_uri": "https://localhost:8080/"
    },
    "id": "Q50l6CCVJext",
    "outputId": "ffef5e58-d8a5-40f7-c4e5-4c962c822c05",
    "pycharm": {
     "name": "#%%\n"
    }
   },
   "outputs": [
    {
     "data": {
      "text/plain": [
       "foodId    0\n",
       "Nama      0\n",
       "Tipe      0\n",
       "dtype: int64"
      ]
     },
     "execution_count": 6,
     "metadata": {},
     "output_type": "execute_result"
    }
   ],
   "source": [
    "food.isnull().sum()"
   ]
  },
  {
   "cell_type": "code",
   "execution_count": 7,
   "metadata": {
    "colab": {
     "base_uri": "https://localhost:8080/"
    },
    "id": "KdN7jl5eJltC",
    "outputId": "391ecce8-1a73-4dec-ddd4-eca835e1a144",
    "pycharm": {
     "name": "#%%\n"
    }
   },
   "outputs": [
    {
     "data": {
      "text/plain": [
       "1273"
      ]
     },
     "execution_count": 7,
     "metadata": {},
     "output_type": "execute_result"
    }
   ],
   "source": [
    "len(food)"
   ]
  },
  {
   "cell_type": "code",
   "execution_count": 8,
   "metadata": {
    "colab": {
     "base_uri": "https://localhost:8080/",
     "height": 424
    },
    "id": "O2gfKDmKJwOI",
    "outputId": "e1f90472-cf4c-4777-deec-b7519bf5060f",
    "pycharm": {
     "name": "#%%\n"
    }
   },
   "outputs": [
    {
     "data": {
      "text/html": [
       "<div>\n",
       "<style scoped>\n",
       "    .dataframe tbody tr th:only-of-type {\n",
       "        vertical-align: middle;\n",
       "    }\n",
       "\n",
       "    .dataframe tbody tr th {\n",
       "        vertical-align: top;\n",
       "    }\n",
       "\n",
       "    .dataframe thead th {\n",
       "        text-align: right;\n",
       "    }\n",
       "</style>\n",
       "<table border=\"1\" class=\"dataframe\">\n",
       "  <thead>\n",
       "    <tr style=\"text-align: right;\">\n",
       "      <th></th>\n",
       "      <th>foodId</th>\n",
       "      <th>Nama</th>\n",
       "      <th>Tipe</th>\n",
       "    </tr>\n",
       "  </thead>\n",
       "  <tbody>\n",
       "    <tr>\n",
       "      <th>0</th>\n",
       "      <td>1</td>\n",
       "      <td>Sosis Bakar</td>\n",
       "      <td>ayam-daging</td>\n",
       "    </tr>\n",
       "    <tr>\n",
       "      <th>1</th>\n",
       "      <td>2</td>\n",
       "      <td>Ngohiong Ayam Udang</td>\n",
       "      <td>ayam-daging</td>\n",
       "    </tr>\n",
       "    <tr>\n",
       "      <th>2</th>\n",
       "      <td>3</td>\n",
       "      <td>Rawon Ayam</td>\n",
       "      <td>ayam-daging</td>\n",
       "    </tr>\n",
       "    <tr>\n",
       "      <th>3</th>\n",
       "      <td>4</td>\n",
       "      <td>Usus Goreng Crispy</td>\n",
       "      <td>ayam-daging</td>\n",
       "    </tr>\n",
       "    <tr>\n",
       "      <th>4</th>\n",
       "      <td>5</td>\n",
       "      <td>Ceker Rica Rica</td>\n",
       "      <td>ayam-daging</td>\n",
       "    </tr>\n",
       "    <tr>\n",
       "      <th>...</th>\n",
       "      <td>...</td>\n",
       "      <td>...</td>\n",
       "      <td>...</td>\n",
       "    </tr>\n",
       "    <tr>\n",
       "      <th>1268</th>\n",
       "      <td>1269</td>\n",
       "      <td>Es Cincau</td>\n",
       "      <td>buah-minuman</td>\n",
       "    </tr>\n",
       "    <tr>\n",
       "      <th>1269</th>\n",
       "      <td>1270</td>\n",
       "      <td>Asinan Rambutan</td>\n",
       "      <td>buah-minuman</td>\n",
       "    </tr>\n",
       "    <tr>\n",
       "      <th>1270</th>\n",
       "      <td>1271</td>\n",
       "      <td>Asinan Buah</td>\n",
       "      <td>buah-minuman</td>\n",
       "    </tr>\n",
       "    <tr>\n",
       "      <th>1271</th>\n",
       "      <td>1272</td>\n",
       "      <td>Sop Buah</td>\n",
       "      <td>buah-minuman</td>\n",
       "    </tr>\n",
       "    <tr>\n",
       "      <th>1272</th>\n",
       "      <td>1273</td>\n",
       "      <td>Bandrek</td>\n",
       "      <td>buah-minuman</td>\n",
       "    </tr>\n",
       "  </tbody>\n",
       "</table>\n",
       "<p>1273 rows × 3 columns</p>\n",
       "</div>"
      ],
      "text/plain": [
       "      foodId                 Nama          Tipe\n",
       "0          1          Sosis Bakar   ayam-daging\n",
       "1          2  Ngohiong Ayam Udang   ayam-daging\n",
       "2          3           Rawon Ayam   ayam-daging\n",
       "3          4   Usus Goreng Crispy   ayam-daging\n",
       "4          5      Ceker Rica Rica   ayam-daging\n",
       "...      ...                  ...           ...\n",
       "1268    1269            Es Cincau  buah-minuman\n",
       "1269    1270      Asinan Rambutan  buah-minuman\n",
       "1270    1271          Asinan Buah  buah-minuman\n",
       "1271    1272             Sop Buah  buah-minuman\n",
       "1272    1273              Bandrek  buah-minuman\n",
       "\n",
       "[1273 rows x 3 columns]"
      ]
     },
     "execution_count": 8,
     "metadata": {},
     "output_type": "execute_result"
    }
   ],
   "source": [
    "# Mengurutkan makanan berdasarkan id kemudian memasukkannya ke dalam variabel fix_food\n",
    "fix_food = food.sort_values('foodId', ascending=True)\n",
    "fix_food"
   ]
  },
  {
   "cell_type": "code",
   "execution_count": 9,
   "metadata": {
    "colab": {
     "base_uri": "https://localhost:8080/"
    },
    "id": "nfWba4m8KKIy",
    "outputId": "0d8b860b-f303-4d1b-e4eb-840dd1430197",
    "pycharm": {
     "name": "#%%\n"
    }
   },
   "outputs": [
    {
     "data": {
      "text/plain": [
       "1273"
      ]
     },
     "execution_count": 9,
     "metadata": {},
     "output_type": "execute_result"
    }
   ],
   "source": [
    "# Mengecek berapa jumlah fix_food\n",
    "len(fix_food.foodId.unique())"
   ]
  },
  {
   "cell_type": "code",
   "execution_count": 10,
   "metadata": {
    "colab": {
     "base_uri": "https://localhost:8080/"
    },
    "id": "g9fEwxctKW5J",
    "outputId": "e28badf6-03f4-44fa-91cb-03d59089d4ab",
    "pycharm": {
     "name": "#%%\n"
    }
   },
   "outputs": [
    {
     "name": "stdout",
     "output_type": "stream",
     "text": [
      "1273\n",
      "1273\n",
      "1273\n"
     ]
    }
   ],
   "source": [
    "# Mengonversi data series ‘foodId’ menjadi dalam bentuk list\n",
    "food_id = fix_food['foodId'].tolist()\n",
    " \n",
    "# Mengonversi data series ‘Nama’ menjadi dalam bentuk list\n",
    "food_nama = fix_food['Nama'].tolist()\n",
    " \n",
    "# Mengonversi data series ‘Tipe’ menjadi dalam bentuk list\n",
    "food_tipe = fix_food['Tipe'].tolist()\n",
    "\n",
    " \n",
    "print(len(food_id))\n",
    "print(len(food_nama))\n",
    "print(len(food_tipe))"
   ]
  },
  {
   "cell_type": "code",
   "execution_count": 11,
   "metadata": {
    "colab": {
     "base_uri": "https://localhost:8080/",
     "height": 424
    },
    "id": "O6YTCEqPN341",
    "outputId": "6f6ff7b5-c155-459c-a6fd-0fb06f1a7fa9",
    "pycharm": {
     "name": "#%%\n"
    }
   },
   "outputs": [
    {
     "data": {
      "text/html": [
       "<div>\n",
       "<style scoped>\n",
       "    .dataframe tbody tr th:only-of-type {\n",
       "        vertical-align: middle;\n",
       "    }\n",
       "\n",
       "    .dataframe tbody tr th {\n",
       "        vertical-align: top;\n",
       "    }\n",
       "\n",
       "    .dataframe thead th {\n",
       "        text-align: right;\n",
       "    }\n",
       "</style>\n",
       "<table border=\"1\" class=\"dataframe\">\n",
       "  <thead>\n",
       "    <tr style=\"text-align: right;\">\n",
       "      <th></th>\n",
       "      <th>foodId</th>\n",
       "      <th>name</th>\n",
       "      <th>tipe</th>\n",
       "    </tr>\n",
       "  </thead>\n",
       "  <tbody>\n",
       "    <tr>\n",
       "      <th>0</th>\n",
       "      <td>1</td>\n",
       "      <td>Sosis Bakar</td>\n",
       "      <td>ayam-daging</td>\n",
       "    </tr>\n",
       "    <tr>\n",
       "      <th>1</th>\n",
       "      <td>2</td>\n",
       "      <td>Ngohiong Ayam Udang</td>\n",
       "      <td>ayam-daging</td>\n",
       "    </tr>\n",
       "    <tr>\n",
       "      <th>2</th>\n",
       "      <td>3</td>\n",
       "      <td>Rawon Ayam</td>\n",
       "      <td>ayam-daging</td>\n",
       "    </tr>\n",
       "    <tr>\n",
       "      <th>3</th>\n",
       "      <td>4</td>\n",
       "      <td>Usus Goreng Crispy</td>\n",
       "      <td>ayam-daging</td>\n",
       "    </tr>\n",
       "    <tr>\n",
       "      <th>4</th>\n",
       "      <td>5</td>\n",
       "      <td>Ceker Rica Rica</td>\n",
       "      <td>ayam-daging</td>\n",
       "    </tr>\n",
       "    <tr>\n",
       "      <th>...</th>\n",
       "      <td>...</td>\n",
       "      <td>...</td>\n",
       "      <td>...</td>\n",
       "    </tr>\n",
       "    <tr>\n",
       "      <th>1268</th>\n",
       "      <td>1269</td>\n",
       "      <td>Es Cincau</td>\n",
       "      <td>buah-minuman</td>\n",
       "    </tr>\n",
       "    <tr>\n",
       "      <th>1269</th>\n",
       "      <td>1270</td>\n",
       "      <td>Asinan Rambutan</td>\n",
       "      <td>buah-minuman</td>\n",
       "    </tr>\n",
       "    <tr>\n",
       "      <th>1270</th>\n",
       "      <td>1271</td>\n",
       "      <td>Asinan Buah</td>\n",
       "      <td>buah-minuman</td>\n",
       "    </tr>\n",
       "    <tr>\n",
       "      <th>1271</th>\n",
       "      <td>1272</td>\n",
       "      <td>Sop Buah</td>\n",
       "      <td>buah-minuman</td>\n",
       "    </tr>\n",
       "    <tr>\n",
       "      <th>1272</th>\n",
       "      <td>1273</td>\n",
       "      <td>Bandrek</td>\n",
       "      <td>buah-minuman</td>\n",
       "    </tr>\n",
       "  </tbody>\n",
       "</table>\n",
       "<p>1273 rows × 3 columns</p>\n",
       "</div>"
      ],
      "text/plain": [
       "      foodId                 name          tipe\n",
       "0          1          Sosis Bakar   ayam-daging\n",
       "1          2  Ngohiong Ayam Udang   ayam-daging\n",
       "2          3           Rawon Ayam   ayam-daging\n",
       "3          4   Usus Goreng Crispy   ayam-daging\n",
       "4          5      Ceker Rica Rica   ayam-daging\n",
       "...      ...                  ...           ...\n",
       "1268    1269            Es Cincau  buah-minuman\n",
       "1269    1270      Asinan Rambutan  buah-minuman\n",
       "1270    1271          Asinan Buah  buah-minuman\n",
       "1271    1272             Sop Buah  buah-minuman\n",
       "1272    1273              Bandrek  buah-minuman\n",
       "\n",
       "[1273 rows x 3 columns]"
      ]
     },
     "execution_count": 11,
     "metadata": {},
     "output_type": "execute_result"
    }
   ],
   "source": [
    "# Membuat dictionary untuk data ‘foodId’, ‘Nama’, ‘tipe’.\n",
    "food_new = pd.DataFrame({\n",
    "    'foodId': food_id,\n",
    "    'name': food_nama,\n",
    "    'tipe': food_tipe,\n",
    "})\n",
    "food_new"
   ]
  },
  {
   "cell_type": "code",
   "execution_count": 12,
   "metadata": {
    "colab": {
     "base_uri": "https://localhost:8080/",
     "height": 206
    },
    "id": "lSm9ET5DOUWG",
    "outputId": "2f342841-7270-49a0-faac-71283207d806",
    "pycharm": {
     "name": "#%%\n"
    }
   },
   "outputs": [
    {
     "data": {
      "text/html": [
       "<div>\n",
       "<style scoped>\n",
       "    .dataframe tbody tr th:only-of-type {\n",
       "        vertical-align: middle;\n",
       "    }\n",
       "\n",
       "    .dataframe tbody tr th {\n",
       "        vertical-align: top;\n",
       "    }\n",
       "\n",
       "    .dataframe thead th {\n",
       "        text-align: right;\n",
       "    }\n",
       "</style>\n",
       "<table border=\"1\" class=\"dataframe\">\n",
       "  <thead>\n",
       "    <tr style=\"text-align: right;\">\n",
       "      <th></th>\n",
       "      <th>foodId</th>\n",
       "      <th>name</th>\n",
       "      <th>tipe</th>\n",
       "    </tr>\n",
       "  </thead>\n",
       "  <tbody>\n",
       "    <tr>\n",
       "      <th>796</th>\n",
       "      <td>797</td>\n",
       "      <td>Sop Sayur</td>\n",
       "      <td>sop-soto-bakso</td>\n",
       "    </tr>\n",
       "    <tr>\n",
       "      <th>1205</th>\n",
       "      <td>1206</td>\n",
       "      <td>Keripik Bayam</td>\n",
       "      <td>keripik-kerupuk</td>\n",
       "    </tr>\n",
       "    <tr>\n",
       "      <th>193</th>\n",
       "      <td>194</td>\n",
       "      <td>Ayam Serundeng</td>\n",
       "      <td>ayam-daging</td>\n",
       "    </tr>\n",
       "    <tr>\n",
       "      <th>688</th>\n",
       "      <td>689</td>\n",
       "      <td>Ayam Hainan</td>\n",
       "      <td>nasi-mie-pasta</td>\n",
       "    </tr>\n",
       "    <tr>\n",
       "      <th>983</th>\n",
       "      <td>984</td>\n",
       "      <td>Kue Ku</td>\n",
       "      <td>kue-roti</td>\n",
       "    </tr>\n",
       "  </tbody>\n",
       "</table>\n",
       "</div>"
      ],
      "text/plain": [
       "      foodId            name             tipe\n",
       "796      797       Sop Sayur   sop-soto-bakso\n",
       "1205    1206   Keripik Bayam  keripik-kerupuk\n",
       "193      194  Ayam Serundeng      ayam-daging\n",
       "688      689     Ayam Hainan   nasi-mie-pasta\n",
       "983      984          Kue Ku         kue-roti"
      ]
     },
     "execution_count": 12,
     "metadata": {},
     "output_type": "execute_result"
    }
   ],
   "source": [
    "data = food_new\n",
    "data.sample(5)"
   ]
  },
  {
   "cell_type": "markdown",
   "metadata": {
    "id": "fY5XYUqC699g",
    "pycharm": {
     "name": "#%% md\n"
    }
   },
   "source": [
    "TF-IDF Vectorizer"
   ]
  },
  {
   "cell_type": "code",
   "execution_count": 13,
   "metadata": {
    "colab": {
     "base_uri": "https://localhost:8080/"
    },
    "id": "6RRcRuLFOtUB",
    "outputId": "cd5edbcb-de92-41db-e21a-387ee12e03da",
    "pycharm": {
     "name": "#%%\n"
    }
   },
   "outputs": [
    {
     "name": "stderr",
     "output_type": "stream",
     "text": [
      "C:\\Users\\kazam\\AppData\\Local\\Programs\\Python\\Python310\\lib\\site-packages\\sklearn\\utils\\deprecation.py:87: FutureWarning: Function get_feature_names is deprecated; get_feature_names is deprecated in 1.0 and will be removed in 1.2. Please use get_feature_names_out instead.\n",
      "  warnings.warn(msg, category=FutureWarning)\n"
     ]
    },
    {
     "data": {
      "text/plain": [
       "['ayam',\n",
       " 'bakso',\n",
       " 'buah',\n",
       " 'daging',\n",
       " 'ikan',\n",
       " 'jajanan',\n",
       " 'jeli',\n",
       " 'keripik',\n",
       " 'kerupuk',\n",
       " 'kue',\n",
       " 'mie',\n",
       " 'minuman',\n",
       " 'nasi',\n",
       " 'pasar',\n",
       " 'pasta',\n",
       " 'puding',\n",
       " 'roti',\n",
       " 'sambal',\n",
       " 'sayur',\n",
       " 'seafood',\n",
       " 'sop',\n",
       " 'soto',\n",
       " 'tahu',\n",
       " 'telur',\n",
       " 'tempe']"
      ]
     },
     "execution_count": 13,
     "metadata": {},
     "output_type": "execute_result"
    }
   ],
   "source": [
    "from sklearn.feature_extraction.text import TfidfVectorizer\n",
    " \n",
    "# Inisialisasi TfidfVectorizer\n",
    "tf = TfidfVectorizer()\n",
    " \n",
    "# Melakukan perhitungan idf pada data tipe\n",
    "tf.fit(data['tipe']) \n",
    " \n",
    "# Mapping array dari fitur index integer ke fitur nama\n",
    "tf.get_feature_names()"
   ]
  },
  {
   "cell_type": "code",
   "execution_count": 14,
   "metadata": {
    "colab": {
     "base_uri": "https://localhost:8080/"
    },
    "id": "YCXSfWEQOy0F",
    "outputId": "9a8bf87d-edff-4d2e-9a6f-caaddecef025",
    "pycharm": {
     "name": "#%%\n"
    }
   },
   "outputs": [
    {
     "data": {
      "text/plain": [
       "(1273, 25)"
      ]
     },
     "execution_count": 14,
     "metadata": {},
     "output_type": "execute_result"
    }
   ],
   "source": [
    "# Melakukan fit lalu ditransformasikan ke bentuk matrix\n",
    "tfidf_matrix = tf.fit_transform(data['tipe']) \n",
    " \n",
    "# Melihat ukuran matrix tfidf\n",
    "tfidf_matrix.shape "
   ]
  },
  {
   "cell_type": "code",
   "execution_count": 15,
   "metadata": {
    "colab": {
     "base_uri": "https://localhost:8080/"
    },
    "id": "o0W2riBYO9sA",
    "outputId": "731364fe-e5c1-4c88-9f39-8d43abb47ea3",
    "pycharm": {
     "name": "#%%\n"
    }
   },
   "outputs": [
    {
     "data": {
      "text/plain": [
       "matrix([[0.70710678, 0.        , 0.        , ..., 0.        , 0.        ,\n",
       "         0.        ],\n",
       "        [0.70710678, 0.        , 0.        , ..., 0.        , 0.        ,\n",
       "         0.        ],\n",
       "        [0.70710678, 0.        , 0.        , ..., 0.        , 0.        ,\n",
       "         0.        ],\n",
       "        ...,\n",
       "        [0.        , 0.        , 0.70710678, ..., 0.        , 0.        ,\n",
       "         0.        ],\n",
       "        [0.        , 0.        , 0.70710678, ..., 0.        , 0.        ,\n",
       "         0.        ],\n",
       "        [0.        , 0.        , 0.70710678, ..., 0.        , 0.        ,\n",
       "         0.        ]])"
      ]
     },
     "execution_count": 15,
     "metadata": {},
     "output_type": "execute_result"
    }
   ],
   "source": [
    "# Mengubah vektor tf-idf dalam bentuk matriks dengan fungsi todense()\n",
    "tfidf_matrix.todense()"
   ]
  },
  {
   "cell_type": "code",
   "execution_count": 16,
   "metadata": {
    "colab": {
     "base_uri": "https://localhost:8080/",
     "height": 592
    },
    "id": "GTRgJioiO_Qm",
    "outputId": "5dc95d40-4769-4f4d-857b-8ba6ec15a9c4",
    "pycharm": {
     "name": "#%%\n"
    }
   },
   "outputs": [
    {
     "data": {
      "text/html": [
       "<div>\n",
       "<style scoped>\n",
       "    .dataframe tbody tr th:only-of-type {\n",
       "        vertical-align: middle;\n",
       "    }\n",
       "\n",
       "    .dataframe tbody tr th {\n",
       "        vertical-align: top;\n",
       "    }\n",
       "\n",
       "    .dataframe thead th {\n",
       "        text-align: right;\n",
       "    }\n",
       "</style>\n",
       "<table border=\"1\" class=\"dataframe\">\n",
       "  <thead>\n",
       "    <tr style=\"text-align: right;\">\n",
       "      <th></th>\n",
       "      <th>kerupuk</th>\n",
       "      <th>keripik</th>\n",
       "      <th>sambal</th>\n",
       "      <th>seafood</th>\n",
       "      <th>pasta</th>\n",
       "      <th>soto</th>\n",
       "      <th>ikan</th>\n",
       "      <th>mie</th>\n",
       "      <th>telur</th>\n",
       "      <th>ayam</th>\n",
       "      <th>...</th>\n",
       "      <th>jeli</th>\n",
       "      <th>roti</th>\n",
       "      <th>sop</th>\n",
       "      <th>bakso</th>\n",
       "      <th>sayur</th>\n",
       "      <th>kue</th>\n",
       "      <th>tahu</th>\n",
       "      <th>daging</th>\n",
       "      <th>minuman</th>\n",
       "      <th>buah</th>\n",
       "    </tr>\n",
       "    <tr>\n",
       "      <th>name</th>\n",
       "      <th></th>\n",
       "      <th></th>\n",
       "      <th></th>\n",
       "      <th></th>\n",
       "      <th></th>\n",
       "      <th></th>\n",
       "      <th></th>\n",
       "      <th></th>\n",
       "      <th></th>\n",
       "      <th></th>\n",
       "      <th></th>\n",
       "      <th></th>\n",
       "      <th></th>\n",
       "      <th></th>\n",
       "      <th></th>\n",
       "      <th></th>\n",
       "      <th></th>\n",
       "      <th></th>\n",
       "      <th></th>\n",
       "      <th></th>\n",
       "      <th></th>\n",
       "    </tr>\n",
       "  </thead>\n",
       "  <tbody>\n",
       "    <tr>\n",
       "      <th>Keripik Singkong</th>\n",
       "      <td>0.707107</td>\n",
       "      <td>0.707107</td>\n",
       "      <td>0.0</td>\n",
       "      <td>0.000000</td>\n",
       "      <td>0.00000</td>\n",
       "      <td>0.00000</td>\n",
       "      <td>0.000000</td>\n",
       "      <td>0.00000</td>\n",
       "      <td>0.0</td>\n",
       "      <td>0.000000</td>\n",
       "      <td>...</td>\n",
       "      <td>0.0</td>\n",
       "      <td>0.0</td>\n",
       "      <td>0.00000</td>\n",
       "      <td>0.00000</td>\n",
       "      <td>0.0</td>\n",
       "      <td>0.0</td>\n",
       "      <td>0.0</td>\n",
       "      <td>0.000000</td>\n",
       "      <td>0.000000</td>\n",
       "      <td>0.000000</td>\n",
       "    </tr>\n",
       "    <tr>\n",
       "      <th>Mie Goreng Jawa</th>\n",
       "      <td>0.000000</td>\n",
       "      <td>0.000000</td>\n",
       "      <td>0.0</td>\n",
       "      <td>0.000000</td>\n",
       "      <td>0.57735</td>\n",
       "      <td>0.00000</td>\n",
       "      <td>0.000000</td>\n",
       "      <td>0.57735</td>\n",
       "      <td>0.0</td>\n",
       "      <td>0.000000</td>\n",
       "      <td>...</td>\n",
       "      <td>0.0</td>\n",
       "      <td>0.0</td>\n",
       "      <td>0.00000</td>\n",
       "      <td>0.00000</td>\n",
       "      <td>0.0</td>\n",
       "      <td>0.0</td>\n",
       "      <td>0.0</td>\n",
       "      <td>0.000000</td>\n",
       "      <td>0.000000</td>\n",
       "      <td>0.000000</td>\n",
       "    </tr>\n",
       "    <tr>\n",
       "      <th>Teh Susu Telur (Talua) Khas Medan</th>\n",
       "      <td>0.000000</td>\n",
       "      <td>0.000000</td>\n",
       "      <td>0.0</td>\n",
       "      <td>0.000000</td>\n",
       "      <td>0.00000</td>\n",
       "      <td>0.00000</td>\n",
       "      <td>0.000000</td>\n",
       "      <td>0.00000</td>\n",
       "      <td>0.0</td>\n",
       "      <td>0.000000</td>\n",
       "      <td>...</td>\n",
       "      <td>0.0</td>\n",
       "      <td>0.0</td>\n",
       "      <td>0.00000</td>\n",
       "      <td>0.00000</td>\n",
       "      <td>0.0</td>\n",
       "      <td>0.0</td>\n",
       "      <td>0.0</td>\n",
       "      <td>0.000000</td>\n",
       "      <td>0.707107</td>\n",
       "      <td>0.707107</td>\n",
       "    </tr>\n",
       "    <tr>\n",
       "      <th>Sup Merah</th>\n",
       "      <td>0.000000</td>\n",
       "      <td>0.000000</td>\n",
       "      <td>0.0</td>\n",
       "      <td>0.000000</td>\n",
       "      <td>0.00000</td>\n",
       "      <td>0.57735</td>\n",
       "      <td>0.000000</td>\n",
       "      <td>0.00000</td>\n",
       "      <td>0.0</td>\n",
       "      <td>0.000000</td>\n",
       "      <td>...</td>\n",
       "      <td>0.0</td>\n",
       "      <td>0.0</td>\n",
       "      <td>0.57735</td>\n",
       "      <td>0.57735</td>\n",
       "      <td>0.0</td>\n",
       "      <td>0.0</td>\n",
       "      <td>0.0</td>\n",
       "      <td>0.000000</td>\n",
       "      <td>0.000000</td>\n",
       "      <td>0.000000</td>\n",
       "    </tr>\n",
       "    <tr>\n",
       "      <th>Sambal Soto</th>\n",
       "      <td>0.000000</td>\n",
       "      <td>0.000000</td>\n",
       "      <td>1.0</td>\n",
       "      <td>0.000000</td>\n",
       "      <td>0.00000</td>\n",
       "      <td>0.00000</td>\n",
       "      <td>0.000000</td>\n",
       "      <td>0.00000</td>\n",
       "      <td>0.0</td>\n",
       "      <td>0.000000</td>\n",
       "      <td>...</td>\n",
       "      <td>0.0</td>\n",
       "      <td>0.0</td>\n",
       "      <td>0.00000</td>\n",
       "      <td>0.00000</td>\n",
       "      <td>0.0</td>\n",
       "      <td>0.0</td>\n",
       "      <td>0.0</td>\n",
       "      <td>0.000000</td>\n",
       "      <td>0.000000</td>\n",
       "      <td>0.000000</td>\n",
       "    </tr>\n",
       "    <tr>\n",
       "      <th>Lele Goreng Kremes</th>\n",
       "      <td>0.000000</td>\n",
       "      <td>0.000000</td>\n",
       "      <td>0.0</td>\n",
       "      <td>0.707107</td>\n",
       "      <td>0.00000</td>\n",
       "      <td>0.00000</td>\n",
       "      <td>0.707107</td>\n",
       "      <td>0.00000</td>\n",
       "      <td>0.0</td>\n",
       "      <td>0.000000</td>\n",
       "      <td>...</td>\n",
       "      <td>0.0</td>\n",
       "      <td>0.0</td>\n",
       "      <td>0.00000</td>\n",
       "      <td>0.00000</td>\n",
       "      <td>0.0</td>\n",
       "      <td>0.0</td>\n",
       "      <td>0.0</td>\n",
       "      <td>0.000000</td>\n",
       "      <td>0.000000</td>\n",
       "      <td>0.000000</td>\n",
       "    </tr>\n",
       "    <tr>\n",
       "      <th>Sambal Pencok Kacang Panjang</th>\n",
       "      <td>0.000000</td>\n",
       "      <td>0.000000</td>\n",
       "      <td>1.0</td>\n",
       "      <td>0.000000</td>\n",
       "      <td>0.00000</td>\n",
       "      <td>0.00000</td>\n",
       "      <td>0.000000</td>\n",
       "      <td>0.00000</td>\n",
       "      <td>0.0</td>\n",
       "      <td>0.000000</td>\n",
       "      <td>...</td>\n",
       "      <td>0.0</td>\n",
       "      <td>0.0</td>\n",
       "      <td>0.00000</td>\n",
       "      <td>0.00000</td>\n",
       "      <td>0.0</td>\n",
       "      <td>0.0</td>\n",
       "      <td>0.0</td>\n",
       "      <td>0.000000</td>\n",
       "      <td>0.000000</td>\n",
       "      <td>0.000000</td>\n",
       "    </tr>\n",
       "    <tr>\n",
       "      <th>Bakso Keju</th>\n",
       "      <td>0.000000</td>\n",
       "      <td>0.000000</td>\n",
       "      <td>0.0</td>\n",
       "      <td>0.000000</td>\n",
       "      <td>0.00000</td>\n",
       "      <td>0.00000</td>\n",
       "      <td>0.000000</td>\n",
       "      <td>0.00000</td>\n",
       "      <td>0.0</td>\n",
       "      <td>0.707107</td>\n",
       "      <td>...</td>\n",
       "      <td>0.0</td>\n",
       "      <td>0.0</td>\n",
       "      <td>0.00000</td>\n",
       "      <td>0.00000</td>\n",
       "      <td>0.0</td>\n",
       "      <td>0.0</td>\n",
       "      <td>0.0</td>\n",
       "      <td>0.707107</td>\n",
       "      <td>0.000000</td>\n",
       "      <td>0.000000</td>\n",
       "    </tr>\n",
       "    <tr>\n",
       "      <th>Es Gempol Pleret</th>\n",
       "      <td>0.000000</td>\n",
       "      <td>0.000000</td>\n",
       "      <td>0.0</td>\n",
       "      <td>0.000000</td>\n",
       "      <td>0.00000</td>\n",
       "      <td>0.00000</td>\n",
       "      <td>0.000000</td>\n",
       "      <td>0.00000</td>\n",
       "      <td>0.0</td>\n",
       "      <td>0.000000</td>\n",
       "      <td>...</td>\n",
       "      <td>0.0</td>\n",
       "      <td>0.0</td>\n",
       "      <td>0.00000</td>\n",
       "      <td>0.00000</td>\n",
       "      <td>0.0</td>\n",
       "      <td>0.0</td>\n",
       "      <td>0.0</td>\n",
       "      <td>0.000000</td>\n",
       "      <td>0.707107</td>\n",
       "      <td>0.707107</td>\n",
       "    </tr>\n",
       "    <tr>\n",
       "      <th>Pempek Kulit</th>\n",
       "      <td>0.000000</td>\n",
       "      <td>0.000000</td>\n",
       "      <td>0.0</td>\n",
       "      <td>0.707107</td>\n",
       "      <td>0.00000</td>\n",
       "      <td>0.00000</td>\n",
       "      <td>0.707107</td>\n",
       "      <td>0.00000</td>\n",
       "      <td>0.0</td>\n",
       "      <td>0.000000</td>\n",
       "      <td>...</td>\n",
       "      <td>0.0</td>\n",
       "      <td>0.0</td>\n",
       "      <td>0.00000</td>\n",
       "      <td>0.00000</td>\n",
       "      <td>0.0</td>\n",
       "      <td>0.0</td>\n",
       "      <td>0.0</td>\n",
       "      <td>0.000000</td>\n",
       "      <td>0.000000</td>\n",
       "      <td>0.000000</td>\n",
       "    </tr>\n",
       "  </tbody>\n",
       "</table>\n",
       "<p>10 rows × 22 columns</p>\n",
       "</div>"
      ],
      "text/plain": [
       "                                    kerupuk   keripik  sambal   seafood  \\\n",
       "name                                                                      \n",
       "Keripik Singkong                   0.707107  0.707107     0.0  0.000000   \n",
       "Mie Goreng Jawa                    0.000000  0.000000     0.0  0.000000   \n",
       "Teh Susu Telur (Talua) Khas Medan  0.000000  0.000000     0.0  0.000000   \n",
       "Sup Merah                          0.000000  0.000000     0.0  0.000000   \n",
       "Sambal Soto                        0.000000  0.000000     1.0  0.000000   \n",
       "Lele Goreng Kremes                 0.000000  0.000000     0.0  0.707107   \n",
       "Sambal Pencok Kacang Panjang       0.000000  0.000000     1.0  0.000000   \n",
       "Bakso Keju                         0.000000  0.000000     0.0  0.000000   \n",
       "Es Gempol Pleret                   0.000000  0.000000     0.0  0.000000   \n",
       "Pempek Kulit                       0.000000  0.000000     0.0  0.707107   \n",
       "\n",
       "                                     pasta     soto      ikan      mie  telur  \\\n",
       "name                                                                            \n",
       "Keripik Singkong                   0.00000  0.00000  0.000000  0.00000    0.0   \n",
       "Mie Goreng Jawa                    0.57735  0.00000  0.000000  0.57735    0.0   \n",
       "Teh Susu Telur (Talua) Khas Medan  0.00000  0.00000  0.000000  0.00000    0.0   \n",
       "Sup Merah                          0.00000  0.57735  0.000000  0.00000    0.0   \n",
       "Sambal Soto                        0.00000  0.00000  0.000000  0.00000    0.0   \n",
       "Lele Goreng Kremes                 0.00000  0.00000  0.707107  0.00000    0.0   \n",
       "Sambal Pencok Kacang Panjang       0.00000  0.00000  0.000000  0.00000    0.0   \n",
       "Bakso Keju                         0.00000  0.00000  0.000000  0.00000    0.0   \n",
       "Es Gempol Pleret                   0.00000  0.00000  0.000000  0.00000    0.0   \n",
       "Pempek Kulit                       0.00000  0.00000  0.707107  0.00000    0.0   \n",
       "\n",
       "                                       ayam  ...  jeli  roti      sop  \\\n",
       "name                                         ...                        \n",
       "Keripik Singkong                   0.000000  ...   0.0   0.0  0.00000   \n",
       "Mie Goreng Jawa                    0.000000  ...   0.0   0.0  0.00000   \n",
       "Teh Susu Telur (Talua) Khas Medan  0.000000  ...   0.0   0.0  0.00000   \n",
       "Sup Merah                          0.000000  ...   0.0   0.0  0.57735   \n",
       "Sambal Soto                        0.000000  ...   0.0   0.0  0.00000   \n",
       "Lele Goreng Kremes                 0.000000  ...   0.0   0.0  0.00000   \n",
       "Sambal Pencok Kacang Panjang       0.000000  ...   0.0   0.0  0.00000   \n",
       "Bakso Keju                         0.707107  ...   0.0   0.0  0.00000   \n",
       "Es Gempol Pleret                   0.000000  ...   0.0   0.0  0.00000   \n",
       "Pempek Kulit                       0.000000  ...   0.0   0.0  0.00000   \n",
       "\n",
       "                                     bakso  sayur  kue  tahu    daging  \\\n",
       "name                                                                     \n",
       "Keripik Singkong                   0.00000    0.0  0.0   0.0  0.000000   \n",
       "Mie Goreng Jawa                    0.00000    0.0  0.0   0.0  0.000000   \n",
       "Teh Susu Telur (Talua) Khas Medan  0.00000    0.0  0.0   0.0  0.000000   \n",
       "Sup Merah                          0.57735    0.0  0.0   0.0  0.000000   \n",
       "Sambal Soto                        0.00000    0.0  0.0   0.0  0.000000   \n",
       "Lele Goreng Kremes                 0.00000    0.0  0.0   0.0  0.000000   \n",
       "Sambal Pencok Kacang Panjang       0.00000    0.0  0.0   0.0  0.000000   \n",
       "Bakso Keju                         0.00000    0.0  0.0   0.0  0.707107   \n",
       "Es Gempol Pleret                   0.00000    0.0  0.0   0.0  0.000000   \n",
       "Pempek Kulit                       0.00000    0.0  0.0   0.0  0.000000   \n",
       "\n",
       "                                    minuman      buah  \n",
       "name                                                   \n",
       "Keripik Singkong                   0.000000  0.000000  \n",
       "Mie Goreng Jawa                    0.000000  0.000000  \n",
       "Teh Susu Telur (Talua) Khas Medan  0.707107  0.707107  \n",
       "Sup Merah                          0.000000  0.000000  \n",
       "Sambal Soto                        0.000000  0.000000  \n",
       "Lele Goreng Kremes                 0.000000  0.000000  \n",
       "Sambal Pencok Kacang Panjang       0.000000  0.000000  \n",
       "Bakso Keju                         0.000000  0.000000  \n",
       "Es Gempol Pleret                   0.707107  0.707107  \n",
       "Pempek Kulit                       0.000000  0.000000  \n",
       "\n",
       "[10 rows x 22 columns]"
      ]
     },
     "execution_count": 16,
     "metadata": {},
     "output_type": "execute_result"
    }
   ],
   "source": [
    "# Membuat dataframe untuk melihat tf-idf matrix\n",
    "# Kolom diisi dengan genre buku\n",
    "# Baris diisi dengan judul buku\n",
    " \n",
    "pd.DataFrame(\n",
    "    tfidf_matrix.todense(), \n",
    "    columns=tf.get_feature_names(),\n",
    "    index=data.name\n",
    ").sample(22, axis=1).sample(10, axis=0)"
   ]
  },
  {
   "cell_type": "code",
   "execution_count": 17,
   "metadata": {
    "colab": {
     "base_uri": "https://localhost:8080/"
    },
    "id": "R6fGbBazPTum",
    "outputId": "4af38476-a564-4c87-cdd8-36fcd702643d",
    "pycharm": {
     "name": "#%%\n"
    }
   },
   "outputs": [
    {
     "data": {
      "text/plain": [
       "array([[1., 1., 1., ..., 0., 0., 0.],\n",
       "       [1., 1., 1., ..., 0., 0., 0.],\n",
       "       [1., 1., 1., ..., 0., 0., 0.],\n",
       "       ...,\n",
       "       [0., 0., 0., ..., 1., 1., 1.],\n",
       "       [0., 0., 0., ..., 1., 1., 1.],\n",
       "       [0., 0., 0., ..., 1., 1., 1.]])"
      ]
     },
     "execution_count": 17,
     "metadata": {},
     "output_type": "execute_result"
    }
   ],
   "source": [
    "from sklearn.metrics.pairwise import cosine_similarity\n",
    " \n",
    "# Menghitung cosine similarity pada matrix tf-idf\n",
    "cosine_sim = cosine_similarity(tfidf_matrix) \n",
    "cosine_sim"
   ]
  },
  {
   "cell_type": "code",
   "execution_count": 18,
   "metadata": {
    "colab": {
     "base_uri": "https://localhost:8080/",
     "height": 412
    },
    "id": "OaOPFLG8PYi9",
    "outputId": "8c4afb22-59ea-4bbb-a3a2-da5295f027bb",
    "pycharm": {
     "name": "#%%\n"
    }
   },
   "outputs": [
    {
     "name": "stdout",
     "output_type": "stream",
     "text": [
      "Shape: (1273, 1273)\n"
     ]
    },
    {
     "data": {
      "text/html": [
       "<div>\n",
       "<style scoped>\n",
       "    .dataframe tbody tr th:only-of-type {\n",
       "        vertical-align: middle;\n",
       "    }\n",
       "\n",
       "    .dataframe tbody tr th {\n",
       "        vertical-align: top;\n",
       "    }\n",
       "\n",
       "    .dataframe thead th {\n",
       "        text-align: right;\n",
       "    }\n",
       "</style>\n",
       "<table border=\"1\" class=\"dataframe\">\n",
       "  <thead>\n",
       "    <tr style=\"text-align: right;\">\n",
       "      <th>name</th>\n",
       "      <th>Tumis Kacang Panjang</th>\n",
       "      <th>Lasagna Panggang</th>\n",
       "      <th>Nasi Telur Pontianak</th>\n",
       "      <th>Ayam Panggang Pecel</th>\n",
       "      <th>Sandwich Homemade</th>\n",
       "    </tr>\n",
       "    <tr>\n",
       "      <th>name</th>\n",
       "      <th></th>\n",
       "      <th></th>\n",
       "      <th></th>\n",
       "      <th></th>\n",
       "      <th></th>\n",
       "    </tr>\n",
       "  </thead>\n",
       "  <tbody>\n",
       "    <tr>\n",
       "      <th>Es Krim Strawberry</th>\n",
       "      <td>0.0</td>\n",
       "      <td>0.0</td>\n",
       "      <td>0.0</td>\n",
       "      <td>0.0</td>\n",
       "      <td>0.0</td>\n",
       "    </tr>\n",
       "    <tr>\n",
       "      <th>Tape Ketan</th>\n",
       "      <td>0.0</td>\n",
       "      <td>0.0</td>\n",
       "      <td>0.0</td>\n",
       "      <td>0.0</td>\n",
       "      <td>0.0</td>\n",
       "    </tr>\n",
       "    <tr>\n",
       "      <th>Pizza Seafood</th>\n",
       "      <td>0.0</td>\n",
       "      <td>0.0</td>\n",
       "      <td>0.0</td>\n",
       "      <td>0.0</td>\n",
       "      <td>1.0</td>\n",
       "    </tr>\n",
       "    <tr>\n",
       "      <th>Lupis</th>\n",
       "      <td>0.0</td>\n",
       "      <td>0.0</td>\n",
       "      <td>0.0</td>\n",
       "      <td>0.0</td>\n",
       "      <td>0.0</td>\n",
       "    </tr>\n",
       "    <tr>\n",
       "      <th>Trancam</th>\n",
       "      <td>1.0</td>\n",
       "      <td>0.0</td>\n",
       "      <td>0.0</td>\n",
       "      <td>0.0</td>\n",
       "      <td>0.0</td>\n",
       "    </tr>\n",
       "    <tr>\n",
       "      <th>Arsik Ikan Mas</th>\n",
       "      <td>0.0</td>\n",
       "      <td>0.0</td>\n",
       "      <td>0.0</td>\n",
       "      <td>0.0</td>\n",
       "      <td>0.0</td>\n",
       "    </tr>\n",
       "    <tr>\n",
       "      <th>Soto Ayam Kuning Lamongan</th>\n",
       "      <td>0.0</td>\n",
       "      <td>0.0</td>\n",
       "      <td>0.0</td>\n",
       "      <td>0.0</td>\n",
       "      <td>0.0</td>\n",
       "    </tr>\n",
       "    <tr>\n",
       "      <th>Tahu Gimbal Udang</th>\n",
       "      <td>0.0</td>\n",
       "      <td>0.0</td>\n",
       "      <td>1.0</td>\n",
       "      <td>0.0</td>\n",
       "      <td>0.0</td>\n",
       "    </tr>\n",
       "    <tr>\n",
       "      <th>Udang Bakar Madu</th>\n",
       "      <td>0.0</td>\n",
       "      <td>0.0</td>\n",
       "      <td>0.0</td>\n",
       "      <td>0.0</td>\n",
       "      <td>0.0</td>\n",
       "    </tr>\n",
       "    <tr>\n",
       "      <th>Burgo</th>\n",
       "      <td>1.0</td>\n",
       "      <td>0.0</td>\n",
       "      <td>0.0</td>\n",
       "      <td>0.0</td>\n",
       "      <td>0.0</td>\n",
       "    </tr>\n",
       "  </tbody>\n",
       "</table>\n",
       "</div>"
      ],
      "text/plain": [
       "name                       Tumis Kacang Panjang  Lasagna Panggang  \\\n",
       "name                                                                \n",
       "Es Krim Strawberry                          0.0               0.0   \n",
       "Tape Ketan                                  0.0               0.0   \n",
       "Pizza Seafood                               0.0               0.0   \n",
       "Lupis                                       0.0               0.0   \n",
       "Trancam                                     1.0               0.0   \n",
       "Arsik Ikan Mas                              0.0               0.0   \n",
       "Soto Ayam Kuning Lamongan                   0.0               0.0   \n",
       "Tahu Gimbal Udang                           0.0               0.0   \n",
       "Udang Bakar Madu                            0.0               0.0   \n",
       "Burgo                                       1.0               0.0   \n",
       "\n",
       "name                       Nasi Telur Pontianak  Ayam Panggang Pecel  \\\n",
       "name                                                                   \n",
       "Es Krim Strawberry                          0.0                  0.0   \n",
       "Tape Ketan                                  0.0                  0.0   \n",
       "Pizza Seafood                               0.0                  0.0   \n",
       "Lupis                                       0.0                  0.0   \n",
       "Trancam                                     0.0                  0.0   \n",
       "Arsik Ikan Mas                              0.0                  0.0   \n",
       "Soto Ayam Kuning Lamongan                   0.0                  0.0   \n",
       "Tahu Gimbal Udang                           1.0                  0.0   \n",
       "Udang Bakar Madu                            0.0                  0.0   \n",
       "Burgo                                       0.0                  0.0   \n",
       "\n",
       "name                       Sandwich Homemade  \n",
       "name                                          \n",
       "Es Krim Strawberry                       0.0  \n",
       "Tape Ketan                               0.0  \n",
       "Pizza Seafood                            1.0  \n",
       "Lupis                                    0.0  \n",
       "Trancam                                  0.0  \n",
       "Arsik Ikan Mas                           0.0  \n",
       "Soto Ayam Kuning Lamongan                0.0  \n",
       "Tahu Gimbal Udang                        0.0  \n",
       "Udang Bakar Madu                         0.0  \n",
       "Burgo                                    0.0  "
      ]
     },
     "execution_count": 18,
     "metadata": {},
     "output_type": "execute_result"
    }
   ],
   "source": [
    "# Membuat dataframe dari variabel cosine_sim dengan baris dan kolom berupa tilte\n",
    "cosine_sim_df = pd.DataFrame(cosine_sim, index=data['name'], columns=data['name'])\n",
    "print('Shape:', cosine_sim_df.shape)\n",
    "\n",
    "# Melihat similarity matrix pada setiap judul buku\n",
    "cosine_sim_df.sample(5, axis=1).sample(10, axis=0)"
   ]
  },
  {
   "cell_type": "code",
   "execution_count": 24,
   "metadata": {
    "id": "qU7D15xOPgNC",
    "pycharm": {
     "name": "#%%\n"
    }
   },
   "outputs": [],
   "source": [
    "from os import name\n",
    "def food_recommendations(name, imilarity_data=cosine_sim_df, items=data[['name', 'tipe']], k=20):\n",
    "    \"\"\"\n",
    "    Rekomendasi makanan berdasarkan kemiripan dataframe\n",
    " \n",
    "    Parameter:\n",
    "    ---\n",
    "    name : tipe data string (str)\n",
    "                nama makanan (index kemiripan dataframe)\n",
    "    similarity_data : tipe data pd.DataFrame (object)\n",
    "                      Kesamaan dataframe, simetrik, dengan nama sebagai \n",
    "                      indeks dan kolom\n",
    "    items : tipe data pd.DataFrame (object)\n",
    "            Mengandung kedua nama dan fitur lainnya yang digunakan untuk mendefinisikan kemiripan\n",
    "    k : tipe data integer (int)\n",
    "        Banyaknya jumlah rekomendasi yang diberikan\n",
    "    ---\n",
    " \n",
    " \n",
    "    Pada index ini, kita mengambil k dengan nilai similarity terbesar \n",
    "    pada index matrix yang diberikan (i).\n",
    "    \"\"\"\n",
    " \n",
    " \n",
    "    # Mengambil data dengan menggunakan argpartition untuk melakukan partisi secara tidak langsung sepanjang sumbu yang diberikan    \n",
    "    # Dataframe diubah menjadi numpy\n",
    "    # Range(start, stop, step)\n",
    "    index = similarity_data.loc[:,name].to_numpy().argpartition(\n",
    "        range(-1, -k, -1))\n",
    "    \n",
    "    # Mengambil data dengan similarity terbesar dari index yang ada\n",
    "    closest = similarity_data.columns[index[-1:-(k+2):-1]]\n",
    "    \n",
    "    # Drop name agar name yang dicari tidak muncul dalam daftar rekomendasi\n",
    "    closest = closest.drop(name, errors='ignore')\n",
    " \n",
    "    return pd.DataFrame(closest).merge(items).head(k)"
   ]
  },
  {
   "cell_type": "code",
   "execution_count": null,
   "metadata": {
    "colab": {
     "base_uri": "https://localhost:8080/",
     "height": 81
    },
    "id": "9DHj7eZFPz5t",
    "outputId": "e39d2e5e-4a4e-4d58-f1fc-3e24fbbc9157",
    "pycharm": {
     "name": "#%%\n"
    }
   },
   "outputs": [],
   "source": [
    "data[data.name.eq('Kue Ketan Hitam Kukus')]"
   ]
  },
  {
   "cell_type": "code",
   "execution_count": null,
   "metadata": {
    "colab": {
     "base_uri": "https://localhost:8080/",
     "height": 676
    },
    "id": "4VYimyntRJ2r",
    "outputId": "98ede2dd-a96a-49da-b04c-bfd25df8c909",
    "pycharm": {
     "name": "#%%\n"
    }
   },
   "outputs": [],
   "source": [
    "food_recommendations('Kue Ketan Hitam Kukus')"
   ]
  }
 ],
 "metadata": {
  "colab": {
   "provenance": []
  },
  "kernelspec": {
   "display_name": "Python 3 (ipykernel)",
   "language": "python",
   "name": "python3"
  },
  "language_info": {
   "codemirror_mode": {
    "name": "ipython",
    "version": 3
   },
   "file_extension": ".py",
   "mimetype": "text/x-python",
   "name": "python",
   "nbconvert_exporter": "python",
   "pygments_lexer": "ipython3",
   "version": "3.10.4"
  },
  "vscode": {
   "interpreter": {
    "hash": "ef218d6f008dea6f195b0b0d17484a11289e6e5c7241791adbbe8d6edc621b8c"
   }
  }
 },
 "nbformat": 4,
 "nbformat_minor": 1
}